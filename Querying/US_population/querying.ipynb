{
 "cells": [
  {
   "cell_type": "markdown",
   "metadata": {},
   "source": [
    "# US CENSUS DATA"
   ]
  },
  {
   "cell_type": "markdown",
   "metadata": {},
   "source": [
    "We will be using census data from the [United States Census Bureau](http://www.census.gov). Counties are political and geographic subdivisions of states in the United States. This dataset contains population data for counties and states in the US. "
   ]
  },
  {
   "cell_type": "markdown",
   "metadata": {},
   "source": [
    "## Import necessary packages"
   ]
  },
  {
   "cell_type": "code",
   "execution_count": 3,
   "metadata": {},
   "outputs": [],
   "source": [
    "import pandas as pd\n",
    "import numpy as np"
   ]
  },
  {
   "cell_type": "markdown",
   "metadata": {},
   "source": [
    "## Load the us_census.csv and assign it a varibale df_census"
   ]
  },
  {
   "cell_type": "code",
   "execution_count": 5,
   "metadata": {},
   "outputs": [
    {
     "data": {
      "text/html": [
       "<div>\n",
       "<style scoped>\n",
       "    .dataframe tbody tr th:only-of-type {\n",
       "        vertical-align: middle;\n",
       "    }\n",
       "\n",
       "    .dataframe tbody tr th {\n",
       "        vertical-align: top;\n",
       "    }\n",
       "\n",
       "    .dataframe thead th {\n",
       "        text-align: right;\n",
       "    }\n",
       "</style>\n",
       "<table border=\"1\" class=\"dataframe\">\n",
       "  <thead>\n",
       "    <tr style=\"text-align: right;\">\n",
       "      <th></th>\n",
       "      <th>SUMLEV</th>\n",
       "      <th>REGION</th>\n",
       "      <th>DIVISION</th>\n",
       "      <th>STATE</th>\n",
       "      <th>COUNTY</th>\n",
       "      <th>STNAME</th>\n",
       "      <th>CTYNAME</th>\n",
       "      <th>CENSUS2010POP</th>\n",
       "      <th>POPESTIMATE2011</th>\n",
       "      <th>BIRTHS2010</th>\n",
       "      <th>DEATHS2010</th>\n",
       "    </tr>\n",
       "  </thead>\n",
       "  <tbody>\n",
       "    <tr>\n",
       "      <th>0</th>\n",
       "      <td>40</td>\n",
       "      <td>3</td>\n",
       "      <td>6</td>\n",
       "      <td>1</td>\n",
       "      <td>0</td>\n",
       "      <td>Alabama</td>\n",
       "      <td>Alabama</td>\n",
       "      <td>4779736</td>\n",
       "      <td>4801108</td>\n",
       "      <td>14226</td>\n",
       "      <td>11089</td>\n",
       "    </tr>\n",
       "    <tr>\n",
       "      <th>1</th>\n",
       "      <td>50</td>\n",
       "      <td>3</td>\n",
       "      <td>6</td>\n",
       "      <td>1</td>\n",
       "      <td>1</td>\n",
       "      <td>Alabama</td>\n",
       "      <td>Autauga County</td>\n",
       "      <td>54571</td>\n",
       "      <td>55253</td>\n",
       "      <td>151</td>\n",
       "      <td>152</td>\n",
       "    </tr>\n",
       "    <tr>\n",
       "      <th>2</th>\n",
       "      <td>50</td>\n",
       "      <td>3</td>\n",
       "      <td>6</td>\n",
       "      <td>1</td>\n",
       "      <td>3</td>\n",
       "      <td>Alabama</td>\n",
       "      <td>Baldwin County</td>\n",
       "      <td>182265</td>\n",
       "      <td>186659</td>\n",
       "      <td>517</td>\n",
       "      <td>532</td>\n",
       "    </tr>\n",
       "    <tr>\n",
       "      <th>3</th>\n",
       "      <td>50</td>\n",
       "      <td>3</td>\n",
       "      <td>6</td>\n",
       "      <td>1</td>\n",
       "      <td>5</td>\n",
       "      <td>Alabama</td>\n",
       "      <td>Barbour County</td>\n",
       "      <td>27457</td>\n",
       "      <td>27226</td>\n",
       "      <td>70</td>\n",
       "      <td>128</td>\n",
       "    </tr>\n",
       "    <tr>\n",
       "      <th>4</th>\n",
       "      <td>50</td>\n",
       "      <td>3</td>\n",
       "      <td>6</td>\n",
       "      <td>1</td>\n",
       "      <td>7</td>\n",
       "      <td>Alabama</td>\n",
       "      <td>Bibb County</td>\n",
       "      <td>22915</td>\n",
       "      <td>22733</td>\n",
       "      <td>44</td>\n",
       "      <td>34</td>\n",
       "    </tr>\n",
       "    <tr>\n",
       "      <th>5</th>\n",
       "      <td>50</td>\n",
       "      <td>3</td>\n",
       "      <td>6</td>\n",
       "      <td>1</td>\n",
       "      <td>9</td>\n",
       "      <td>Alabama</td>\n",
       "      <td>Blount County</td>\n",
       "      <td>57322</td>\n",
       "      <td>57711</td>\n",
       "      <td>183</td>\n",
       "      <td>133</td>\n",
       "    </tr>\n",
       "    <tr>\n",
       "      <th>6</th>\n",
       "      <td>50</td>\n",
       "      <td>3</td>\n",
       "      <td>6</td>\n",
       "      <td>1</td>\n",
       "      <td>11</td>\n",
       "      <td>Alabama</td>\n",
       "      <td>Bullock County</td>\n",
       "      <td>10914</td>\n",
       "      <td>10629</td>\n",
       "      <td>39</td>\n",
       "      <td>52</td>\n",
       "    </tr>\n",
       "  </tbody>\n",
       "</table>\n",
       "</div>"
      ],
      "text/plain": [
       "   SUMLEV  REGION  DIVISION  STATE  COUNTY   STNAME         CTYNAME  \\\n",
       "0      40       3         6      1       0  Alabama         Alabama   \n",
       "1      50       3         6      1       1  Alabama  Autauga County   \n",
       "2      50       3         6      1       3  Alabama  Baldwin County   \n",
       "3      50       3         6      1       5  Alabama  Barbour County   \n",
       "4      50       3         6      1       7  Alabama     Bibb County   \n",
       "5      50       3         6      1       9  Alabama   Blount County   \n",
       "6      50       3         6      1      11  Alabama  Bullock County   \n",
       "\n",
       "   CENSUS2010POP  POPESTIMATE2011  BIRTHS2010  DEATHS2010  \n",
       "0        4779736          4801108       14226       11089  \n",
       "1          54571            55253         151         152  \n",
       "2         182265           186659         517         532  \n",
       "3          27457            27226          70         128  \n",
       "4          22915            22733          44          34  \n",
       "5          57322            57711         183         133  \n",
       "6          10914            10629          39          52  "
      ]
     },
     "execution_count": 5,
     "metadata": {},
     "output_type": "execute_result"
    }
   ],
   "source": [
    "df_census = pd.read_csv(\"us_census.csv\")\n",
    "#show the first 7 rows of the DataFrame\n",
    "df_census.head(7)"
   ]
  },
  {
   "cell_type": "markdown",
   "metadata": {},
   "source": [
    "## What are the number of entries in the DataFrame"
   ]
  },
  {
   "cell_type": "code",
   "execution_count": 6,
   "metadata": {},
   "outputs": [
    {
     "name": "stdout",
     "output_type": "stream",
     "text": [
      "3193\n"
     ]
    }
   ],
   "source": [
    "print(len(df_census)) #Output: 3193"
   ]
  },
  {
   "cell_type": "code",
   "execution_count": 12,
   "metadata": {},
   "outputs": [
    {
     "name": "stdout",
     "output_type": "stream",
     "text": [
      "Number of rows: 3193\n",
      "Number of columns: 11\n"
     ]
    }
   ],
   "source": [
    "#also note the use shape function\n",
    "# df_census.shape is a two-value table\n",
    "#first value is the number of records\n",
    "# second value is the number of fields(columns)\n",
    "rows, cols = df_census.shape\n",
    "print(\"Number of rows:\",rows) # Output: 3193\n",
    "print(\"Number of columns:\",cols) # Output: 11"
   ]
  },
  {
   "cell_type": "markdown",
   "metadata": {},
   "source": [
    "## Show information about the columns"
   ]
  },
  {
   "cell_type": "code",
   "execution_count": 17,
   "metadata": {},
   "outputs": [
    {
     "name": "stdout",
     "output_type": "stream",
     "text": [
      "<class 'pandas.core.frame.DataFrame'>\n",
      "RangeIndex: 3193 entries, 0 to 3192\n",
      "Data columns (total 11 columns):\n",
      "SUMLEV             3193 non-null int64\n",
      "REGION             3193 non-null int64\n",
      "DIVISION           3193 non-null int64\n",
      "STATE              3193 non-null int64\n",
      "COUNTY             3193 non-null int64\n",
      "STNAME             3193 non-null object\n",
      "CTYNAME            3193 non-null object\n",
      "CENSUS2010POP      3193 non-null int64\n",
      "POPESTIMATE2011    3193 non-null int64\n",
      "BIRTHS2010         3193 non-null int64\n",
      "DEATHS2010         3193 non-null int64\n",
      "dtypes: int64(9), object(2)\n",
      "memory usage: 274.5+ KB\n"
     ]
    }
   ],
   "source": [
    "df_census.info()\n",
    "# This is a very informative function. Check it out"
   ]
  },
  {
   "cell_type": "code",
   "execution_count": 22,
   "metadata": {},
   "outputs": [
    {
     "name": "stdout",
     "output_type": "stream",
     "text": [
      "SUMLEV              int64\n",
      "REGION              int64\n",
      "DIVISION            int64\n",
      "STATE               int64\n",
      "COUNTY              int64\n",
      "STNAME             object\n",
      "CTYNAME            object\n",
      "CENSUS2010POP       int64\n",
      "POPESTIMATE2011     int64\n",
      "BIRTHS2010          int64\n",
      "DEATHS2010          int64\n",
      "dtype: object\n"
     ]
    }
   ],
   "source": [
    "# if you only need to know the information about the data types\n",
    "print(df_census.dtypes)"
   ]
  },
  {
   "cell_type": "code",
   "execution_count": 23,
   "metadata": {},
   "outputs": [
    {
     "name": "stdout",
     "output_type": "stream",
     "text": [
      "Index(['SUMLEV', 'REGION', 'DIVISION', 'STATE', 'COUNTY', 'STNAME', 'CTYNAME',\n",
      "       'CENSUS2010POP', 'POPESTIMATE2011', 'BIRTHS2010', 'DEATHS2010'],\n",
      "      dtype='object')\n"
     ]
    }
   ],
   "source": [
    "#Print all the columns. You can also turn this into a list by using list()\n",
    "# function\n",
    "print(df_census.columns)"
   ]
  },
  {
   "cell_type": "markdown",
   "metadata": {},
   "source": [
    "## Read the description file"
   ]
  },
  {
   "cell_type": "code",
   "execution_count": 29,
   "metadata": {},
   "outputs": [
    {
     "name": "stdout",
     "output_type": "stream",
     "text": [
      "CO-EST2015-alldata: Annual Resident Population Estimates, Estimated Components of Resident Population Change, and Rates of the Components of Resident Population Change for States and Counties: April 1, 2010 to July 1, 2015\n",
      "\n",
      "File: 7/1/2015 County Population Estimates\n",
      "\n",
      "\n",
      "Source: U.S. Census Bureau, Population Division Release\n",
      "\n",
      "Date: March 2016Sort order of observations: Counties within State in FIPS code sort Data fields (in order of appearance):\n",
      "\n",
      "\n",
      "VARIABLE AND DESCRIPTIONS\n",
      "\n",
      "SUMLEV Geographic summary level\n",
      "REGION Census Region code\n",
      "DIVISION Census Division code\n",
      "STATE State FIPS code\n",
      "COUNTY County FIPS code\n",
      "STNAME  State name\n",
      "CTYNAME County name\n",
      "CENSUS2010POP 4/1/2010 resident total Census 2010 population\n",
      "POPESTIMATE2011 7/1/2011 resident total population estimate\n",
      "BIRTHS2010  Births in period 4/1/2010 to 6/30/2010\n",
      "DEATHS2010  Deaths in period 4/1/2010 to 6/30/2010\n",
      "\n",
      "\n",
      "X = Not Applicable\n",
      "\n",
      "The key for SUMLEV is as follows:\n",
      "040 = State and/or Statistical Equivalent\n",
      "050 = County and /or Statistical Equivalent\n",
      "\n",
      "The key for REGION is as follows:\n",
      "1 = Northeast\n",
      "2 = Midwest\n",
      "3 = South\n",
      "4 = West\n",
      "\n",
      "The key for DIVISION is as follows:\n",
      "1 = New England\n",
      "2 = Middle Atlantic\n",
      "3 = East North Central\n",
      "4 = West North Central\n",
      "5 = South Atlantic\n",
      "6 = East South Central\n",
      "7 = West South Central\n",
      "8 = Mountain\n",
      "9 = Pacific\n"
     ]
    }
   ],
   "source": [
    "with open(\"readme.txt\") as fp:\n",
    "    for line in fp:\n",
    "        # print line and strip \"\\n\" so that the line won't\n",
    "        # have extra large spacing\n",
    "        print(line.rstrip())"
   ]
  },
  {
   "cell_type": "markdown",
   "metadata": {},
   "source": [
    "## Display the states of US, How many states are they?"
   ]
  },
  {
   "cell_type": "markdown",
   "metadata": {},
   "source": [
    "From the description above, note that states of US are SUMLEV==040."
   ]
  },
  {
   "cell_type": "code",
   "execution_count": 36,
   "metadata": {},
   "outputs": [
    {
     "data": {
      "text/plain": [
       "0                    Alabama\n",
       "68                    Alaska\n",
       "98                   Arizona\n",
       "114                 Arkansas\n",
       "190               California\n",
       "249                 Colorado\n",
       "314              Connecticut\n",
       "323                 Delaware\n",
       "327     District of Columbia\n",
       "329                  Florida\n",
       "397                  Georgia\n",
       "557                   Hawaii\n",
       "563                    Idaho\n",
       "608                 Illinois\n",
       "711                  Indiana\n",
       "804                     Iowa\n",
       "904                   Kansas\n",
       "1010                Kentucky\n",
       "1131               Louisiana\n",
       "1196                   Maine\n",
       "1213                Maryland\n",
       "1238           Massachusetts\n",
       "1253                Michigan\n",
       "1337               Minnesota\n",
       "1425             Mississippi\n",
       "1508                Missouri\n",
       "1624                 Montana\n",
       "1681                Nebraska\n",
       "1775                  Nevada\n",
       "1793           New Hampshire\n",
       "1804              New Jersey\n",
       "1826              New Mexico\n",
       "1860                New York\n",
       "1923          North Carolina\n",
       "2024            North Dakota\n",
       "2078                    Ohio\n",
       "2167                Oklahoma\n",
       "2245                  Oregon\n",
       "2282            Pennsylvania\n",
       "2350            Rhode Island\n",
       "2356          South Carolina\n",
       "2403            South Dakota\n",
       "2470               Tennessee\n",
       "2566                   Texas\n",
       "2821                    Utah\n",
       "2851                 Vermont\n",
       "2866                Virginia\n",
       "3000              Washington\n",
       "3040           West Virginia\n",
       "3096               Wisconsin\n",
       "3169                 Wyoming\n",
       "Name: STNAME, dtype: object"
      ]
     },
     "execution_count": 36,
     "metadata": {},
     "output_type": "execute_result"
    }
   ],
   "source": [
    "# filter df_census to show only the states of US, that is SUMLEV=40 \n",
    "# Note that 040=40 in Python\n",
    "states_stats = df_census[df_census[\"SUMLEV\"]==40]\n",
    "# from the states' statistic we can now show the state column, STNAME\n",
    "states = states_stats[\"STNAME\"]\n",
    "states"
   ]
  },
  {
   "cell_type": "code",
   "execution_count": 37,
   "metadata": {},
   "outputs": [
    {
     "data": {
      "text/plain": [
       "51"
      ]
     },
     "execution_count": 37,
     "metadata": {},
     "output_type": "execute_result"
    }
   ],
   "source": [
    "# How many are they?\n",
    "len(states) # 51"
   ]
  },
  {
   "cell_type": "markdown",
   "metadata": {},
   "source": [
    "## Which state has the highest population? (Use column CENSUS2010POP)"
   ]
  },
  {
   "cell_type": "code",
   "execution_count": 43,
   "metadata": {},
   "outputs": [
    {
     "name": "stdout",
     "output_type": "stream",
     "text": [
      "37253956\n"
     ]
    }
   ],
   "source": [
    "#first of all lets get the highest population using in-built max function\n",
    "largest= max(states_stats[\"CENSUS2010POP\"]) #Output 37253956\n",
    "print(largest)"
   ]
  },
  {
   "cell_type": "code",
   "execution_count": 46,
   "metadata": {},
   "outputs": [
    {
     "data": {
      "text/html": [
       "<div>\n",
       "<style scoped>\n",
       "    .dataframe tbody tr th:only-of-type {\n",
       "        vertical-align: middle;\n",
       "    }\n",
       "\n",
       "    .dataframe tbody tr th {\n",
       "        vertical-align: top;\n",
       "    }\n",
       "\n",
       "    .dataframe thead th {\n",
       "        text-align: right;\n",
       "    }\n",
       "</style>\n",
       "<table border=\"1\" class=\"dataframe\">\n",
       "  <thead>\n",
       "    <tr style=\"text-align: right;\">\n",
       "      <th></th>\n",
       "      <th>SUMLEV</th>\n",
       "      <th>REGION</th>\n",
       "      <th>DIVISION</th>\n",
       "      <th>STATE</th>\n",
       "      <th>COUNTY</th>\n",
       "      <th>STNAME</th>\n",
       "      <th>CTYNAME</th>\n",
       "      <th>CENSUS2010POP</th>\n",
       "      <th>POPESTIMATE2011</th>\n",
       "      <th>BIRTHS2010</th>\n",
       "      <th>DEATHS2010</th>\n",
       "    </tr>\n",
       "  </thead>\n",
       "  <tbody>\n",
       "    <tr>\n",
       "      <th>190</th>\n",
       "      <td>40</td>\n",
       "      <td>4</td>\n",
       "      <td>9</td>\n",
       "      <td>6</td>\n",
       "      <td>0</td>\n",
       "      <td>California</td>\n",
       "      <td>California</td>\n",
       "      <td>37253956</td>\n",
       "      <td>37700034</td>\n",
       "      <td>123324</td>\n",
       "      <td>57284</td>\n",
       "    </tr>\n",
       "  </tbody>\n",
       "</table>\n",
       "</div>"
      ],
      "text/plain": [
       "     SUMLEV  REGION  DIVISION  STATE  COUNTY      STNAME     CTYNAME  \\\n",
       "190      40       4         9      6       0  California  California   \n",
       "\n",
       "     CENSUS2010POP  POPESTIMATE2011  BIRTHS2010  DEATHS2010  \n",
       "190       37253956         37700034      123324       57284  "
      ]
     },
     "execution_count": 46,
     "metadata": {},
     "output_type": "execute_result"
    }
   ],
   "source": [
    "# lets now filter the STNAME column to show the state with the largest value above\n",
    "entry = states_stats[states_stats[\"CENSUS2010POP\"] == largest]\n",
    "entry"
   ]
  },
  {
   "cell_type": "code",
   "execution_count": 53,
   "metadata": {},
   "outputs": [
    {
     "name": "stdout",
     "output_type": "stream",
     "text": [
      "190    California\n",
      "Name: STNAME, dtype: object\n"
     ]
    }
   ],
   "source": [
    "#lets get the state name \n",
    "print(entry[\"STNAME\"]) #California"
   ]
  },
  {
   "cell_type": "code",
   "execution_count": 55,
   "metadata": {},
   "outputs": [
    {
     "data": {
      "text/html": [
       "<div>\n",
       "<style scoped>\n",
       "    .dataframe tbody tr th:only-of-type {\n",
       "        vertical-align: middle;\n",
       "    }\n",
       "\n",
       "    .dataframe tbody tr th {\n",
       "        vertical-align: top;\n",
       "    }\n",
       "\n",
       "    .dataframe thead th {\n",
       "        text-align: right;\n",
       "    }\n",
       "</style>\n",
       "<table border=\"1\" class=\"dataframe\">\n",
       "  <thead>\n",
       "    <tr style=\"text-align: right;\">\n",
       "      <th></th>\n",
       "      <th>SUMLEV</th>\n",
       "      <th>REGION</th>\n",
       "      <th>DIVISION</th>\n",
       "      <th>STATE</th>\n",
       "      <th>COUNTY</th>\n",
       "      <th>STNAME</th>\n",
       "      <th>CTYNAME</th>\n",
       "      <th>CENSUS2010POP</th>\n",
       "      <th>POPESTIMATE2011</th>\n",
       "      <th>BIRTHS2010</th>\n",
       "      <th>DEATHS2010</th>\n",
       "    </tr>\n",
       "  </thead>\n",
       "  <tbody>\n",
       "    <tr>\n",
       "      <th>190</th>\n",
       "      <td>40</td>\n",
       "      <td>4</td>\n",
       "      <td>9</td>\n",
       "      <td>6</td>\n",
       "      <td>0</td>\n",
       "      <td>California</td>\n",
       "      <td>California</td>\n",
       "      <td>37253956</td>\n",
       "      <td>37700034</td>\n",
       "      <td>123324</td>\n",
       "      <td>57284</td>\n",
       "    </tr>\n",
       "  </tbody>\n",
       "</table>\n",
       "</div>"
      ],
      "text/plain": [
       "     SUMLEV  REGION  DIVISION  STATE  COUNTY      STNAME     CTYNAME  \\\n",
       "190      40       4         9      6       0  California  California   \n",
       "\n",
       "     CENSUS2010POP  POPESTIMATE2011  BIRTHS2010  DEATHS2010  \n",
       "190       37253956         37700034      123324       57284  "
      ]
     },
     "execution_count": 55,
     "metadata": {},
     "output_type": "execute_result"
    }
   ],
   "source": [
    "# More compactly\n",
    "entry = states_stats[states_stats[\"CENSUS2010POP\"] \\\n",
    "                     == max(states_stats[\"CENSUS2010POP\"])]\n",
    "entry"
   ]
  },
  {
   "cell_type": "markdown",
   "metadata": {},
   "source": [
    "## How many counties in each state?"
   ]
  },
  {
   "cell_type": "code",
   "execution_count": 84,
   "metadata": {},
   "outputs": [
    {
     "name": "stderr",
     "output_type": "stream",
     "text": [
      "/home/kiprono/.local/lib/python3.7/site-packages/ipykernel_launcher.py:4: SettingWithCopyWarning: \n",
      "A value is trying to be set on a copy of a slice from a DataFrame.\n",
      "Try using .loc[row_indexer,col_indexer] = value instead\n",
      "\n",
      "See the caveats in the documentation: http://pandas.pydata.org/pandas-docs/stable/indexing.html#indexing-view-versus-copy\n",
      "  after removing the cwd from sys.path.\n"
     ]
    },
    {
     "data": {
      "text/plain": [
       "STNAME\n",
       "Alabama                  67\n",
       "Alaska                   29\n",
       "Arizona                  15\n",
       "Arkansas                 75\n",
       "California               58\n",
       "Colorado                 64\n",
       "Connecticut               8\n",
       "Delaware                  3\n",
       "District of Columbia      1\n",
       "Florida                  67\n",
       "Georgia                 159\n",
       "Hawaii                    5\n",
       "Idaho                    44\n",
       "Illinois                102\n",
       "Indiana                  92\n",
       "Iowa                     99\n",
       "Kansas                  105\n",
       "Kentucky                120\n",
       "Louisiana                64\n",
       "Maine                    16\n",
       "Maryland                 24\n",
       "Massachusetts            14\n",
       "Michigan                 83\n",
       "Minnesota                87\n",
       "Mississippi              82\n",
       "Missouri                115\n",
       "Montana                  56\n",
       "Nebraska                 93\n",
       "Nevada                   17\n",
       "New Hampshire            10\n",
       "New Jersey               21\n",
       "New Mexico               33\n",
       "New York                 62\n",
       "North Carolina          100\n",
       "North Dakota             53\n",
       "Ohio                     88\n",
       "Oklahoma                 77\n",
       "Oregon                   36\n",
       "Pennsylvania             67\n",
       "Rhode Island              5\n",
       "South Carolina           46\n",
       "South Dakota             66\n",
       "Tennessee                95\n",
       "Texas                   254\n",
       "Utah                     29\n",
       "Vermont                  14\n",
       "Virginia                133\n",
       "Washington               39\n",
       "West Virginia            55\n",
       "Wisconsin                72\n",
       "Wyoming                  23\n",
       "Name: count, dtype: int64"
      ]
     },
     "execution_count": 84,
     "metadata": {},
     "output_type": "execute_result"
    }
   ],
   "source": [
    "# Filter out the get only the counties\n",
    "counties_stats = df_census[df_census[\"SUMLEV\"]==50]\n",
    "#create a count column to count after grouping states by counties\n",
    "counties_stats[\"count\"]=0\n",
    "# Group the counties by state\n",
    "counties_count = counties_stats.groupby(by=\"STNAME\").count()[\"count\"]\n",
    "counties_count"
   ]
  },
  {
   "cell_type": "markdown",
   "metadata": {},
   "source": [
    "## Which county has the largest Birst-Death difference"
   ]
  },
  {
   "cell_type": "code",
   "execution_count": 101,
   "metadata": {},
   "outputs": [
    {
     "name": "stderr",
     "output_type": "stream",
     "text": [
      "/home/kiprono/.local/lib/python3.7/site-packages/ipykernel_launcher.py:4: SettingWithCopyWarning: \n",
      "A value is trying to be set on a copy of a slice from a DataFrame.\n",
      "Try using .loc[row_indexer,col_indexer] = value instead\n",
      "\n",
      "See the caveats in the documentation: http://pandas.pydata.org/pandas-docs/stable/indexing.html#indexing-view-versus-copy\n",
      "  after removing the cwd from sys.path.\n"
     ]
    },
    {
     "data": {
      "text/html": [
       "<div>\n",
       "<style scoped>\n",
       "    .dataframe tbody tr th:only-of-type {\n",
       "        vertical-align: middle;\n",
       "    }\n",
       "\n",
       "    .dataframe tbody tr th {\n",
       "        vertical-align: top;\n",
       "    }\n",
       "\n",
       "    .dataframe thead th {\n",
       "        text-align: right;\n",
       "    }\n",
       "</style>\n",
       "<table border=\"1\" class=\"dataframe\">\n",
       "  <thead>\n",
       "    <tr style=\"text-align: right;\">\n",
       "      <th></th>\n",
       "      <th>SUMLEV</th>\n",
       "      <th>REGION</th>\n",
       "      <th>DIVISION</th>\n",
       "      <th>STATE</th>\n",
       "      <th>COUNTY</th>\n",
       "      <th>STNAME</th>\n",
       "      <th>CTYNAME</th>\n",
       "      <th>CENSUS2010POP</th>\n",
       "      <th>POPESTIMATE2011</th>\n",
       "      <th>BIRTHS2010</th>\n",
       "      <th>DEATHS2010</th>\n",
       "      <th>diff</th>\n",
       "    </tr>\n",
       "  </thead>\n",
       "  <tbody>\n",
       "    <tr>\n",
       "      <th>209</th>\n",
       "      <td>50</td>\n",
       "      <td>4</td>\n",
       "      <td>9</td>\n",
       "      <td>6</td>\n",
       "      <td>37</td>\n",
       "      <td>California</td>\n",
       "      <td>Los Angeles County</td>\n",
       "      <td>9818605</td>\n",
       "      <td>9896602</td>\n",
       "      <td>31740</td>\n",
       "      <td>13814</td>\n",
       "      <td>17926</td>\n",
       "    </tr>\n",
       "  </tbody>\n",
       "</table>\n",
       "</div>"
      ],
      "text/plain": [
       "     SUMLEV  REGION  DIVISION  STATE  COUNTY      STNAME             CTYNAME  \\\n",
       "209      50       4         9      6      37  California  Los Angeles County   \n",
       "\n",
       "     CENSUS2010POP  POPESTIMATE2011  BIRTHS2010  DEATHS2010   diff  \n",
       "209        9818605          9896602       31740       13814  17926  "
      ]
     },
     "execution_count": 101,
     "metadata": {},
     "output_type": "execute_result"
    }
   ],
   "source": [
    "# Has usual we need SUMLEV==50\n",
    "county_stats = df_census[df_census[\"SUMLEV\"]==50]\n",
    "#get the absolue difference and assign it to new column diff\n",
    "county_stats[\"diff\"] = abs(county_stats[\"BIRTHS2010\"] - county_stats[\"DEATHS2010\"])\n",
    "county_stats[county_stats[\"diff\"] == max(county_stats[\"diff\"] )] #Los Angeles County"
   ]
  },
  {
   "cell_type": "code",
   "execution_count": null,
   "metadata": {},
   "outputs": [],
   "source": []
  },
  {
   "cell_type": "code",
   "execution_count": null,
   "metadata": {},
   "outputs": [],
   "source": []
  },
  {
   "cell_type": "code",
   "execution_count": null,
   "metadata": {},
   "outputs": [],
   "source": []
  },
  {
   "cell_type": "code",
   "execution_count": null,
   "metadata": {},
   "outputs": [],
   "source": []
  },
  {
   "cell_type": "code",
   "execution_count": null,
   "metadata": {},
   "outputs": [],
   "source": []
  },
  {
   "cell_type": "code",
   "execution_count": null,
   "metadata": {},
   "outputs": [],
   "source": []
  }
 ],
 "metadata": {
  "kernelspec": {
   "display_name": "Python 3",
   "language": "python",
   "name": "python3"
  },
  "language_info": {
   "codemirror_mode": {
    "name": "ipython",
    "version": 3
   },
   "file_extension": ".py",
   "mimetype": "text/x-python",
   "name": "python",
   "nbconvert_exporter": "python",
   "pygments_lexer": "ipython3",
   "version": "3.7.3"
  }
 },
 "nbformat": 4,
 "nbformat_minor": 2
}
